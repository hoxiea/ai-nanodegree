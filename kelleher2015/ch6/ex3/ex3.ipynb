{
 "cells": [
  {
   "cell_type": "markdown",
   "metadata": {},
   "source": [
    "# Kelleher 2015, Chapter 6, Exercise 3\n",
    "\n",
    "In this problem, we're using a **naive Bayes model with continuous predictor features**. We'll handle the continuous features by making assumptions about the underlying probability distributions, fitting pdfs to our data, and then using those pdf values as an indication of the relative likelihood of a given value, given a target value.\n",
    "\n",
    "Data available here: http://bit.ly/kelleher2015-ch6-ex3"
   ]
  },
  {
   "cell_type": "code",
   "execution_count": 8,
   "metadata": {
    "collapsed": false
   },
   "outputs": [],
   "source": [
    "import numpy as np\n",
    "import pandas as pd\n",
    "\n",
    "# Read in the training data AND the new data\n",
    "input_file = \"ch6ex3.csv\"\n",
    "df = pd.read_csv(input_file)\n",
    "\n",
    "# Extract and process the new data (Russia)\n",
    "new_data = df.tail(1)\n",
    "new_data = new_data.drop(\"Status\", 1)\n",
    "df = df.drop(df.tail(1).index)\n",
    "\n",
    "# Get the training data ready to go\n",
    "target_colname = \"Status\"\n",
    "X = df.drop(target_colname, axis=1)\n",
    "y = df[target_colname]"
   ]
  },
  {
   "cell_type": "markdown",
   "metadata": {},
   "source": [
    "## 3a) Naive Bayes Model, Gaussian Distributions"
   ]
  },
  {
   "cell_type": "markdown",
   "metadata": {},
   "source": [
    "By \"assuming that all descriptive features are Normally distributed,\" we'd be fitting 6 * 3 = 18 probability distributions, where each of the 6 features gets its own Normal distribution for each of the 3 factor levels.\n",
    "\n",
    "As one example, we would assume that (SSIn | Status = ok) ~ N($\\hat{\\mu}$, $\\hat{\\sigma}$), where:\n",
    "\n",
    "* $\\hat{\\mu}$ = mean(168, 156, 176, 256)\n",
    "* $\\hat{\\sigma}$ = sd(168, 156, 176, 256)\n",
    "\n",
    "If it seems weird to fit a Normal distribution to just four values, I'd agree with you. Hopefully there's strong domain knowledge suggesting that each of these values is legitimately Normally distributed.\n",
    "\n",
    "Once we've fit all 18 Normal models, we're interested in the posterior probability of each target label, given the new data. Our target prediction will be the label with the **maximum a posteriori (MAP)** value.\n",
    "\n",
    "Thankfully, this exact situation is provided by *sklearn*:"
   ]
  },
  {
   "cell_type": "code",
   "execution_count": 9,
   "metadata": {
    "collapsed": false
   },
   "outputs": [
    {
     "data": {
      "text/plain": [
       "GaussianNB()"
      ]
     },
     "execution_count": 9,
     "metadata": {},
     "output_type": "execute_result"
    }
   ],
   "source": [
    "from sklearn.naive_bayes import GaussianNB\n",
    "gnb = GaussianNB()\n",
    "gnb.fit(X, y)"
   ]
  },
  {
   "cell_type": "markdown",
   "metadata": {},
   "source": [
    "## 3b) Prediction "
   ]
  },
  {
   "cell_type": "code",
   "execution_count": 10,
   "metadata": {
    "collapsed": false
   },
   "outputs": [
    {
     "data": {
      "text/plain": [
       "array(['settler'], \n",
       "      dtype='<U7')"
      ]
     },
     "execution_count": 10,
     "metadata": {},
     "output_type": "execute_result"
    }
   ],
   "source": [
    "gnb.predict(new_data)"
   ]
  },
  {
   "cell_type": "markdown",
   "metadata": {},
   "source": [
    "This seems like a reasonable prediction, just eyeballing the data: \n",
    "\n",
    "* The distribution of (SedIn | Status = solids) will make a prediction of \"solids\" highly unlikely\n",
    "* The provided SSIn and SedIn values match the \"settler\" values better than the \"ok\" values\n",
    "* Actually, the same is true for all the other variables, too"
   ]
  }
 ],
 "metadata": {
  "kernelspec": {
   "display_name": "Python 3",
   "language": "python",
   "name": "python3"
  },
  "language_info": {
   "codemirror_mode": {
    "name": "ipython",
    "version": 3
   },
   "file_extension": ".py",
   "mimetype": "text/x-python",
   "name": "python",
   "nbconvert_exporter": "python",
   "pygments_lexer": "ipython3",
   "version": "3.6.0"
  }
 },
 "nbformat": 4,
 "nbformat_minor": 0
}
