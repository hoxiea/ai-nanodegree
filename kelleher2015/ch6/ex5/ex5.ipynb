{
 "cells": [
  {
   "cell_type": "markdown",
   "metadata": {},
   "source": [
    "# Kelleher 2015, Chapter 6, Exercise 5\n",
    "\n",
    "In this exercise, we're going to predict the preferred communication channel of policy holders at an insurance company, based on information about them.\n",
    "\n",
    "Data are available here: "
   ]
  },
  {
   "cell_type": "code",
   "execution_count": 17,
   "metadata": {
    "collapsed": false
   },
   "outputs": [],
   "source": [
    "import numpy as np\n",
    "import pandas as pd\n",
    "\n",
    "# Read in the training data\n",
    "input_file = \"ch6ex5.csv\"\n",
    "df = pd.read_csv(input_file)\n",
    "\n",
    "# Get the training data ready to go\n",
    "target_colname = \"PrefChannel\"\n",
    "X = df.drop(target_colname, axis=1)\n",
    "y = df[target_colname]"
   ]
  },
  {
   "cell_type": "markdown",
   "metadata": {},
   "source": [
    "## 5a) Equal-Frequency Binning for Age"
   ]
  },
  {
   "cell_type": "markdown",
   "metadata": {},
   "source": [
    "We saw in the chapter that there are multiple options for Naive Bayes models to handle continuous variables. In Exercise 3, we explored one of those options: we assumed Normality for each conditional distribution, and estimated the mean and standard deviation from the (limited) data we had. \n",
    "\n",
    "In this exercise, we'll take a different approach and use **equal-frequency binning** to convert the quantitative variable Age into a categorical variable. With 9 observations and 3 requested levels (young, middle-aged, mature), the youngest three policy holders will be \"young\", the next 3 will be \"middle-aged\", and the oldest three will be \"mature\". (Note that each bin has the same number of observations in it - thus, \"equal-frequency.\")\n",
    "\n",
    "This wouldn't be hard to program manually, but pandas has a function to do this for us:"
   ]
  },
  {
   "cell_type": "code",
   "execution_count": 18,
   "metadata": {
    "collapsed": true
   },
   "outputs": [],
   "source": [
    "X.Age = pd.qcut(X.Age, 3, labels=[\"young\", \"middle-aged\", \"mature\"])"
   ]
  },
  {
   "cell_type": "markdown",
   "metadata": {},
   "source": [
    "## 5b) Excluding Features"
   ]
  },
  {
   "cell_type": "markdown",
   "metadata": {},
   "source": [
    "**The obvious feature to exclude is \"Occupation.\"** Every person in our training data has a different occupation, so knowing a person's occupation tells us nothing about his/her preferred communication channel. (Plus, dropping Occupation will mean far fewer probabilities to estimate, not that we're going to run into computational issues with a dataset this small.)\n",
    "\n",
    "Gender can stay - 75% of females prefer phone, whereas only 60% of men prefer phone, so this seems possibly informative.\n",
    "\n",
    "Age actually doesn't seem very informative: in all three of our categorical buckets, there are 2 of one label and 1 of the other. But it can stay for now.\n",
    "\n",
    "PolicyType has potential to be informative - 75% of TypeC's prefer phone, only 33% of TypeA's prefer phone, and 50% of TypeB's prefer phone."
   ]
  },
  {
   "cell_type": "code",
   "execution_count": 19,
   "metadata": {
    "collapsed": false
   },
   "outputs": [],
   "source": [
    "X = X.drop(\"Occupation\", 1)"
   ]
  },
  {
   "cell_type": "markdown",
   "metadata": {},
   "source": [
    "## 5c) Calculating Probabilities for Naive Bayes"
   ]
  },
  {
   "cell_type": "markdown",
   "metadata": {},
   "source": [
    "Excluding Occupation and using equal-frequency binning for Age, we have the following probabilities:\n",
    "\n",
    "* P(email) = 4/9\n",
    "* P(phone) = 5/9\n",
    "* P(female | email) = 1/4   =>   P(male | email) = 3/4\n",
    "* P(female | phone) = 3/5   =>   P(male | phone) = 2/5\n",
    "\n",
    "And so on."
   ]
  },
  {
   "cell_type": "markdown",
   "metadata": {},
   "source": [
    "## 5d) Predicting"
   ]
  },
  {
   "cell_type": "markdown",
   "metadata": {},
   "source": [
    "Unfortunately, sklearn doesn't directly handle non-binary categorical features for Naive Bayes. It *does*, however, support Bernoulli Naive Bayes.\n",
    "\n",
    "I did a little reading, and it seems like the strategy is to encode the various factor levels as indicators, and then use those with the BernoulliNB.\n",
    "\n",
    "https://stackoverflow.com/questions/38621053/how-can-i-use-sklearn-naive-bayes-with-multiple-categorical-features\n",
    "https://datascience.stackexchange.com/questions/9854/sklearn-naive-bayes-vs-categorical-variables\n",
    "\n",
    "pandas.get_dummies to the rescue! \n",
    "\n",
    "Note that we drop_first, since one of the key assumptions for a Naive Bayes model is that the features are conditionally independent, given the target. But if I have a column of indicators for both male and female, then one is simply the complement of the other, and they're definitely not conditionally independent. A single column should contain all the information needed for this model."
   ]
  },
  {
   "cell_type": "code",
   "execution_count": 28,
   "metadata": {
    "collapsed": false
   },
   "outputs": [
    {
     "data": {
      "text/html": [
       "<div>\n",
       "<table border=\"1\" class=\"dataframe\">\n",
       "  <thead>\n",
       "    <tr style=\"text-align: right;\">\n",
       "      <th></th>\n",
       "      <th>Gender_male</th>\n",
       "      <th>Age_middle-aged</th>\n",
       "      <th>Age_mature</th>\n",
       "      <th>PolicyType_B</th>\n",
       "      <th>PolicyType_C</th>\n",
       "    </tr>\n",
       "  </thead>\n",
       "  <tbody>\n",
       "    <tr>\n",
       "      <th>0</th>\n",
       "      <td>0</td>\n",
       "      <td>1</td>\n",
       "      <td>0</td>\n",
       "      <td>0</td>\n",
       "      <td>1</td>\n",
       "    </tr>\n",
       "    <tr>\n",
       "      <th>1</th>\n",
       "      <td>0</td>\n",
       "      <td>0</td>\n",
       "      <td>1</td>\n",
       "      <td>0</td>\n",
       "      <td>0</td>\n",
       "    </tr>\n",
       "    <tr>\n",
       "      <th>2</th>\n",
       "      <td>1</td>\n",
       "      <td>0</td>\n",
       "      <td>0</td>\n",
       "      <td>0</td>\n",
       "      <td>0</td>\n",
       "    </tr>\n",
       "    <tr>\n",
       "      <th>3</th>\n",
       "      <td>0</td>\n",
       "      <td>1</td>\n",
       "      <td>0</td>\n",
       "      <td>1</td>\n",
       "      <td>0</td>\n",
       "    </tr>\n",
       "    <tr>\n",
       "      <th>4</th>\n",
       "      <td>1</td>\n",
       "      <td>0</td>\n",
       "      <td>1</td>\n",
       "      <td>0</td>\n",
       "      <td>1</td>\n",
       "    </tr>\n",
       "    <tr>\n",
       "      <th>5</th>\n",
       "      <td>1</td>\n",
       "      <td>0</td>\n",
       "      <td>0</td>\n",
       "      <td>0</td>\n",
       "      <td>0</td>\n",
       "    </tr>\n",
       "    <tr>\n",
       "      <th>6</th>\n",
       "      <td>1</td>\n",
       "      <td>1</td>\n",
       "      <td>0</td>\n",
       "      <td>0</td>\n",
       "      <td>1</td>\n",
       "    </tr>\n",
       "    <tr>\n",
       "      <th>7</th>\n",
       "      <td>1</td>\n",
       "      <td>0</td>\n",
       "      <td>1</td>\n",
       "      <td>1</td>\n",
       "      <td>0</td>\n",
       "    </tr>\n",
       "    <tr>\n",
       "      <th>8</th>\n",
       "      <td>0</td>\n",
       "      <td>0</td>\n",
       "      <td>0</td>\n",
       "      <td>0</td>\n",
       "      <td>1</td>\n",
       "    </tr>\n",
       "  </tbody>\n",
       "</table>\n",
       "</div>"
      ],
      "text/plain": [
       "   Gender_male  Age_middle-aged  Age_mature  PolicyType_B  PolicyType_C\n",
       "0            0                1           0             0             1\n",
       "1            0                0           1             0             0\n",
       "2            1                0           0             0             0\n",
       "3            0                1           0             1             0\n",
       "4            1                0           1             0             1\n",
       "5            1                0           0             0             0\n",
       "6            1                1           0             0             1\n",
       "7            1                0           1             1             0\n",
       "8            0                0           0             0             1"
      ]
     },
     "execution_count": 28,
     "metadata": {},
     "output_type": "execute_result"
    }
   ],
   "source": [
    "X_dropfirst = pd.get_dummies(X, drop_first=True)\n",
    "X_dropfirst"
   ]
  },
  {
   "cell_type": "markdown",
   "metadata": {},
   "source": [
    "We need to convert our query into this new encoding scheme...\n",
    "\n",
    "* female => Gender_male = 0\n",
    "* (Age = 30) => Age = young, since the ages at the edges of young and middle-aged are 21 and 43 (with 32 at the middle, thus an age of 30 falls into the 'young' category)  =>  0 for middle-aged and old\n",
    "* (Policy = A) => 0 for Types B and C"
   ]
  },
  {
   "cell_type": "code",
   "execution_count": 29,
   "metadata": {
    "collapsed": false
   },
   "outputs": [
    {
     "data": {
      "text/html": [
       "<div>\n",
       "<table border=\"1\" class=\"dataframe\">\n",
       "  <thead>\n",
       "    <tr style=\"text-align: right;\">\n",
       "      <th></th>\n",
       "      <th>Gender_male</th>\n",
       "      <th>Age_middle-aged</th>\n",
       "      <th>Age_mature</th>\n",
       "      <th>PolicyType_B</th>\n",
       "      <th>PolicyType_C</th>\n",
       "    </tr>\n",
       "  </thead>\n",
       "  <tbody>\n",
       "    <tr>\n",
       "      <th>0</th>\n",
       "      <td>0.0</td>\n",
       "      <td>0.0</td>\n",
       "      <td>0.0</td>\n",
       "      <td>0.0</td>\n",
       "      <td>0.0</td>\n",
       "    </tr>\n",
       "  </tbody>\n",
       "</table>\n",
       "</div>"
      ],
      "text/plain": [
       "   Gender_male  Age_middle-aged  Age_mature  PolicyType_B  PolicyType_C\n",
       "0          0.0              0.0         0.0           0.0           0.0"
      ]
     },
     "execution_count": 29,
     "metadata": {},
     "output_type": "execute_result"
    }
   ],
   "source": [
    "new_data_binary = pd.DataFrame(columns=list(X_dropfirst))\n",
    "new_data_binary.loc[0] = np.array([0,0,0,0,0])\n",
    "new_data_binary"
   ]
  },
  {
   "cell_type": "code",
   "execution_count": 30,
   "metadata": {
    "collapsed": false
   },
   "outputs": [
    {
     "data": {
      "text/plain": [
       "array(['phone'], \n",
       "      dtype='<U5')"
      ]
     },
     "execution_count": 30,
     "metadata": {},
     "output_type": "execute_result"
    }
   ],
   "source": [
    "from sklearn.naive_bayes import BernoulliNB\n",
    "clf = BernoulliNB(alpha=0)\n",
    "clf.fit(X_dropfirst, y)\n",
    "clf.predict(new_data_binary)"
   ]
  },
  {
   "cell_type": "markdown",
   "metadata": {},
   "source": [
    "Thus, we predict that this individual will prefer to be contacted via phone."
   ]
  }
 ],
 "metadata": {
  "kernelspec": {
   "display_name": "Python 3",
   "language": "python",
   "name": "python3"
  },
  "language_info": {
   "codemirror_mode": {
    "name": "ipython",
    "version": 3
   },
   "file_extension": ".py",
   "mimetype": "text/x-python",
   "name": "python",
   "nbconvert_exporter": "python",
   "pygments_lexer": "ipython3",
   "version": "3.6.0"
  }
 },
 "nbformat": 4,
 "nbformat_minor": 0
}
