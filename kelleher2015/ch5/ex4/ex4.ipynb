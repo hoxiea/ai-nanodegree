{
 "cells": [
  {
   "cell_type": "markdown",
   "metadata": {},
   "source": [
    "# Kelleher 2015, Chapter 5, Exercise 4"
   ]
  },
  {
   "cell_type": "markdown",
   "metadata": {},
   "source": [
    "## 4a)"
   ]
  },
  {
   "cell_type": "markdown",
   "metadata": {},
   "source": [
    "In this problem, we're building a recommender system for a large (>100,000 items) online store. We have data about every item in the store, and whether or not every customer has purchased that item.\n",
    "\n",
    "Given a customer C that we'd like to make a recommendation for, we'll presumably find other customers in our database who are similar to C, and then we'll recommend things that were commonly purchased by those other similar customers.\n",
    "\n",
    "To measure similarity, we'll use a **similarity index**. If our three choices are Russell-Rao, Sokal-Michener, and Jaccard, I think that **Jaccard** would be the best choice because it ignores co-absences: items that neither customer has purchased. With such a large inventory, the vast majority of items would be co-absences for any two customers in our database, so by ignoring these, we'll be able to zoom in on the more informative other cases: co-presence, absence-presence, and presence-absence."
   ]
  },
  {
   "cell_type": "markdown",
   "metadata": {},
   "source": [
    "## 4b)"
   ]
  },
  {
   "cell_type": "markdown",
   "metadata": {},
   "source": [
    "If the customers in our database are called A and B, and the new customer here is C, then\n",
    "\n",
    "Jaccard(A, C) = $\\frac{2}{3}$ and Jaccard(B, C) = $\\frac{1}{4}$\n",
    "\n",
    "So our system should recommend something that A has purchased but C has not. **Item 498** looks like a winner.\n",
    "\n",
    "This raises an interesting point: two customers that match each other perfectly acually isn't helpful, since there wouldn't be any products purchased by one and not the other."
   ]
  }
 ],
 "metadata": {
  "kernelspec": {
   "display_name": "Python 3",
   "language": "python",
   "name": "python3"
  },
  "language_info": {
   "codemirror_mode": {
    "name": "ipython",
    "version": 3
   },
   "file_extension": ".py",
   "mimetype": "text/x-python",
   "name": "python",
   "nbconvert_exporter": "python",
   "pygments_lexer": "ipython3",
   "version": "3.4.5"
  }
 },
 "nbformat": 4,
 "nbformat_minor": 0
}
