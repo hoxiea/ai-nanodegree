{
 "cells": [
  {
   "cell_type": "markdown",
   "metadata": {},
   "source": [
    "# Kelleher 2015, Chapter 5, Exercise 3\n",
    "\n",
    "In this exercise, we're predicting the level of corruption (**continuous variable**) in a country based on macroeconomic and social features.\n",
    "\n",
    "The data are available here: http://bit.ly/kelleher2015-ch5-ex3"
   ]
  },
  {
   "cell_type": "code",
   "execution_count": 8,
   "metadata": {
    "collapsed": true
   },
   "outputs": [],
   "source": [
    "import numpy as np\n",
    "import pandas as pd\n",
    "from sklearn import neighbors\n",
    "\n",
    "# Read in the training data AND the new data\n",
    "input_file = \"ch5ex3.csv\"\n",
    "df = pd.read_csv(input_file)\n",
    "\n",
    "# Extract and process the new data (Russia)\n",
    "new_data = df.tail(1)\n",
    "new_data = new_data.drop(\"CPI\", 1)\n",
    "new_data = new_data.rename(new_data.Country)\n",
    "new_data = new_data.drop(\"Country\", 1)\n",
    "df = df.drop(df.tail(1).index)\n",
    "\n",
    "# Get the training data ready to go\n",
    "target_colname = \"CPI\"\n",
    "X = df.drop(target_colname, axis=1)\n",
    "y = df[target_colname]\n",
    "\n",
    "X = X.rename(X.Country)\n",
    "X = X.drop(\"Country\", axis=1)"
   ]
  },
  {
   "cell_type": "markdown",
   "metadata": {},
   "source": [
    "## 3a) k=3, Euclidean Distance"
   ]
  },
  {
   "cell_type": "code",
   "execution_count": 16,
   "metadata": {
    "collapsed": false
   },
   "outputs": [
    {
     "data": {
      "text/plain": [
       "array([ 4.58913333])"
      ]
     },
     "execution_count": 16,
     "metadata": {},
     "output_type": "execute_result"
    }
   ],
   "source": [
    "# Configure the algorithm\n",
    "k = 3\n",
    "metric = \"euclidean\"\n",
    "\n",
    "# Fit the model\n",
    "clf_3a = neighbors.KNeighborsRegressor(n_neighbors=k, metric=metric)\n",
    "clf_3a.fit(X, y)\n",
    "\n",
    "# What's the predicted CPI for Russia?\n",
    "clf_3a.predict(new_data)"
   ]
  },
  {
   "cell_type": "markdown",
   "metadata": {},
   "source": [
    "So we predict a CPI of approximately 4.5891 for Russia using the average CPIs of the $k=3$ nearest neighbors."
   ]
  },
  {
   "cell_type": "markdown",
   "metadata": {},
   "source": [
    "## 3b) k = 16, Euclidean distance, $w_i = \\frac{1}{d_i^2}$"
   ]
  },
  {
   "cell_type": "code",
   "execution_count": 18,
   "metadata": {
    "collapsed": false
   },
   "outputs": [
    {
     "data": {
      "text/plain": [
       "array([ 5.90870754])"
      ]
     },
     "execution_count": 18,
     "metadata": {},
     "output_type": "execute_result"
    }
   ],
   "source": [
    "# Define the custom weight function: SQUARED euclidean distance\n",
    "inverse_squared_distance = np.vectorize(lambda d: 1.0 / (d*d))\n",
    "\n",
    "# Configure the algorithm\n",
    "k = 16\n",
    "metric = \"euclidean\"\n",
    "\n",
    "# Fit the model\n",
    "clf_3b = neighbors.KNeighborsRegressor(n_neighbors=k, metric=metric, weights=inverse_squared_distance)\n",
    "clf_3b.fit(X, y)\n",
    "clf_3b.predict(new_data)"
   ]
  },
  {
   "cell_type": "markdown",
   "metadata": {},
   "source": [
    "The weighted kNN prediction moder predicts a CPI of approximately 5.9087 for Russia."
   ]
  },
  {
   "cell_type": "markdown",
   "metadata": {},
   "source": [
    "## 3c) k = 3, Euclidean distance, Normalized data"
   ]
  },
  {
   "cell_type": "markdown",
   "metadata": {},
   "source": [
    "As we learned in the section, when you're doing distance-based work, the scale of the various variables is extremely important. A variable with a naturally larger scale can dominate a Euclidean distance calculation, for example - the example on page 205 does (in my opinion) a great job of illustrating this.\n",
    "\n",
    "To get all of our variables on the same scale, we can normalize them using **range normalization**. After deciding the range of values we want each variable to span (here we'll use low=0, high=1), we normalize as follows:\n",
    "\n",
    "$$a_i' = low + \\frac{a_i - \\min(a)}{\\max(a) - \\min(a)} \\times (high - low)$$"
   ]
  },
  {
   "cell_type": "code",
   "execution_count": 13,
   "metadata": {
    "collapsed": false
   },
   "outputs": [
    {
     "data": {
      "text/plain": [
       "array([ 5.96896667])"
      ]
     },
     "execution_count": 13,
     "metadata": {},
     "output_type": "execute_result"
    }
   ],
   "source": [
    "# Normalize the data\n",
    "from sklearn.preprocessing import MinMaxScaler\n",
    "mm_scaler = MinMaxScaler()\n",
    "X_scaled = pd.DataFrame(mm_scaler.fit_transform(X))\n",
    "X_scaled.columns = list(X)\n",
    "\n",
    "# Normalize the new data using the fitted parameters\n",
    "new_data_scaled = mm_scaler.transform(new_data)\n",
    "\n",
    "# Configure the algorithm\n",
    "k = 3\n",
    "metric = \"euclidean\"\n",
    "\n",
    "# Fit the model\n",
    "clf_3c = neighbors.KNeighborsRegressor(n_neighbors=k, metric=metric)\n",
    "clf_3c.fit(X_scaled, y)\n",
    "clf_3c.predict(new_data_scaled)"
   ]
  },
  {
   "cell_type": "markdown",
   "metadata": {},
   "source": [
    "After normalizing each variable to range from 0 to 1 (thus negating the effects of different natural variable scales), the new predicted $k = 3$ CPI for Russia is approximately 5.9690."
   ]
  },
  {
   "cell_type": "markdown",
   "metadata": {},
   "source": [
    "## 3d) k = 16, Euclidean distance, $w_i = \\frac{1}{d_i^2}$, normalized data"
   ]
  },
  {
   "cell_type": "code",
   "execution_count": 20,
   "metadata": {
    "collapsed": false
   },
   "outputs": [
    {
     "data": {
      "text/plain": [
       "array([ 6.6346612])"
      ]
     },
     "execution_count": 20,
     "metadata": {},
     "output_type": "execute_result"
    }
   ],
   "source": [
    "# Configure the algorithm\n",
    "k = 16\n",
    "metric = \"euclidean\"\n",
    "\n",
    "# Fit the model\n",
    "clf_3d = neighbors.KNeighborsRegressor(n_neighbors=k, metric=metric, weights=inverse_squared_distance)\n",
    "clf_3d.fit(X_scaled, y)\n",
    "clf_3d.predict(new_data_scaled)"
   ]
  },
  {
   "cell_type": "markdown",
   "metadata": {},
   "source": [
    "So using all of our training data with inverse squared distances for weights, we obtain a predicted CPI of approximately 6.6347 for Russia."
   ]
  },
  {
   "cell_type": "markdown",
   "metadata": {},
   "source": [
    "## 2e)"
   ]
  },
  {
   "cell_type": "markdown",
   "metadata": {},
   "source": [
    "I'm surprised to learn that the actual 2011 CPI for Russia was 2.4488. The best prediction was by far for the $k=3$ model we fit on our unnormalized data in (3a). I suspect that this prediction was best because Russia happened to be near (in an unnormalized sense) to some lower-valued CPI nations... let's take a look."
   ]
  },
  {
   "cell_type": "code",
   "execution_count": 32,
   "metadata": {
    "collapsed": false
   },
   "outputs": [
    {
     "name": "stdout",
     "output_type": "stream",
     "text": [
      "           LifeExp  Top10Income  InfantMort  MilSpend  SchoolYears\n",
      "Argentina    75.77        32.30        13.3      0.76         10.1\n",
      "China        74.87        29.98        13.7      1.95          6.4\n",
      "USA          78.51        29.85         6.3      4.72         13.7\n"
     ]
    },
    {
     "data": {
      "text/plain": [
       "4    2.9961\n",
       "5    3.6356\n",
       "8    7.1357\n",
       "Name: CPI, dtype: float64"
      ]
     },
     "execution_count": 32,
     "metadata": {},
     "output_type": "execute_result"
    }
   ],
   "source": [
    "dists, indices = clf_3a.kneighbors(new_data, n_neighbors=3)\n",
    "print(X.iloc[indices[0]])\n",
    "y[indices[0]]"
   ]
  },
  {
   "cell_type": "markdown",
   "metadata": {},
   "source": [
    "It's not clear how these data are collected, either. It says that CPI is \"the perceived levels of corruption in the public sector of countries, where 0 is 'highly corrupt' and 100 is 'very clean'.\" If it's only people with that country whose opinions are collected, then there could be pressure to respond a certain way. And if people from all countries can have a say in each country's rating, then stereotypes about corruption could impact the values received. Here, we see Russia being perceived as being much more corrupt than the models would predict, which could stem from these stereotypes."
   ]
  }
 ],
 "metadata": {
  "kernelspec": {
   "display_name": "Python 3",
   "language": "python",
   "name": "python3"
  },
  "language_info": {
   "codemirror_mode": {
    "name": "ipython",
    "version": 3
   },
   "file_extension": ".py",
   "mimetype": "text/x-python",
   "name": "python",
   "nbconvert_exporter": "python",
   "pygments_lexer": "ipython3",
   "version": "3.4.5"
  }
 },
 "nbformat": 4,
 "nbformat_minor": 0
}
