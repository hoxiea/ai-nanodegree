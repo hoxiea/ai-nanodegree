{
 "cells": [
  {
   "cell_type": "markdown",
   "metadata": {},
   "source": [
    "# Kelleher 2015, Chapter 5, Exercise 1\n",
    "\n",
    "In this problem, we're going to use a nearest neighbor model to predict if it's a good day for surfing.\n",
    "\n",
    "The data are available here: http://bit.ly/kelleher2015-ch5-ex1"
   ]
  },
  {
   "cell_type": "code",
   "execution_count": 6,
   "metadata": {
    "collapsed": false
   },
   "outputs": [
    {
     "name": "stdout",
     "output_type": "stream",
     "text": [
      "(array([[ 3.31662479],\n",
      "       [ 2.82842712],\n",
      "       [ 1.41421356]]), array([[3],\n",
      "       [5],\n",
      "       [2]]))\n",
      "[ True False  True]\n"
     ]
    }
   ],
   "source": [
    "import numpy as np\n",
    "import pandas as pd\n",
    "from sklearn import neighbors\n",
    "\n",
    "# Read in the training data\n",
    "input_file = \"ex1data.csv\"\n",
    "df = pd.read_csv(input_file)\n",
    "target_colname = \"GoodSurf\"\n",
    "X = df.drop(target_colname, axis=1)\n",
    "y = df[target_colname]\n",
    "\n",
    "# Configure the algorithm\n",
    "k = 1\n",
    "metric = \"euclidean\"\n",
    "\n",
    "# Fit the model\n",
    "clf = neighbors.KNeighborsClassifier(n_neighbors=k, metric=metric)\n",
    "clf.fit(X, y)\n",
    "\n",
    "# Create the data we'd like to make predictions for\n",
    "new_data = pd.DataFrame.from_items([(\"A\", [8, 8, 6]), (\"B\", [15, 2, 11]), (\"C\", [2, 18, 4])])\n",
    "new_data.columns = list(X)\n",
    "\n",
    "# Which training data value is closest to each new point?\n",
    "distance_info = clf.kneighbors(new_data, n_neighbors=k)\n",
    "print(distance_info)  # be careful, these are 0-indexed! they're 1-indexed in the book\n",
    "\n",
    "# And what label did those closest points have?\n",
    "predictions = clf.predict(new_data)\n",
    "print(predictions)\n"
   ]
  },
  {
   "cell_type": "markdown",
   "metadata": {},
   "source": [
    "These seem like very reasonable predictions:\n",
    "\n",
    "* The first new data point is very similar to the fourth observation in the training data (index = 3).\n",
    "* The second new data point is very similar to the last observation in the training data (index = 5).\n",
    "* The third new data point is very similar to the third observation in the training data (index = 2).\n",
    "\n",
    "And since we're only using k=1, the target values for these closest points are the predictions we'll make for our new observations."
   ]
  }
 ],
 "metadata": {
  "kernelspec": {
   "display_name": "Python 3",
   "language": "python",
   "name": "python3"
  },
  "language_info": {
   "codemirror_mode": {
    "name": "ipython",
    "version": 3
   },
   "file_extension": ".py",
   "mimetype": "text/x-python",
   "name": "python",
   "nbconvert_exporter": "python",
   "pygments_lexer": "ipython3",
   "version": "3.4.5"
  }
 },
 "nbformat": 4,
 "nbformat_minor": 0
}
