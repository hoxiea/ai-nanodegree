{
 "cells": [
  {
   "cell_type": "markdown",
   "metadata": {},
   "source": [
    "# Kelleher 2015, Chapter 7, Exercise 3"
   ]
  },
  {
   "cell_type": "markdown",
   "metadata": {},
   "source": [
    "In this problem, we're given the weights for a multivariate logistic regression, and we're asked to make predictions for new observations."
   ]
  },
  {
   "cell_type": "code",
   "execution_count": 6,
   "metadata": {
    "collapsed": false
   },
   "outputs": [
    {
     "data": {
      "text/html": [
       "<div>\n",
       "<table border=\"1\" class=\"dataframe\">\n",
       "  <thead>\n",
       "    <tr style=\"text-align: right;\">\n",
       "      <th></th>\n",
       "      <th>Int</th>\n",
       "      <th>Age</th>\n",
       "      <th>Economic</th>\n",
       "      <th>ShopFreq</th>\n",
       "      <th>ShopValue</th>\n",
       "    </tr>\n",
       "  </thead>\n",
       "  <tbody>\n",
       "    <tr>\n",
       "      <th>0</th>\n",
       "      <td>1</td>\n",
       "      <td>56</td>\n",
       "      <td>b</td>\n",
       "      <td>1.60</td>\n",
       "      <td>109.32</td>\n",
       "    </tr>\n",
       "    <tr>\n",
       "      <th>1</th>\n",
       "      <td>1</td>\n",
       "      <td>21</td>\n",
       "      <td>c</td>\n",
       "      <td>4.92</td>\n",
       "      <td>11.28</td>\n",
       "    </tr>\n",
       "    <tr>\n",
       "      <th>2</th>\n",
       "      <td>1</td>\n",
       "      <td>48</td>\n",
       "      <td>b</td>\n",
       "      <td>1.21</td>\n",
       "      <td>161.19</td>\n",
       "    </tr>\n",
       "    <tr>\n",
       "      <th>3</th>\n",
       "      <td>1</td>\n",
       "      <td>37</td>\n",
       "      <td>c</td>\n",
       "      <td>0.72</td>\n",
       "      <td>170.65</td>\n",
       "    </tr>\n",
       "    <tr>\n",
       "      <th>4</th>\n",
       "      <td>1</td>\n",
       "      <td>32</td>\n",
       "      <td>a</td>\n",
       "      <td>1.08</td>\n",
       "      <td>165.39</td>\n",
       "    </tr>\n",
       "  </tbody>\n",
       "</table>\n",
       "</div>"
      ],
      "text/plain": [
       "   Int  Age Economic  ShopFreq  ShopValue\n",
       "0    1   56        b      1.60     109.32\n",
       "1    1   21        c      4.92      11.28\n",
       "2    1   48        b      1.21     161.19\n",
       "3    1   37        c      0.72     170.65\n",
       "4    1   32        a      1.08     165.39"
      ]
     },
     "execution_count": 6,
     "metadata": {},
     "output_type": "execute_result"
    }
   ],
   "source": [
    "import numpy as np\n",
    "import pandas as pd\n",
    "\n",
    "weights = np.array([-3.82398, -0.02990, -0.09089, -0.19558, 0.02999, 0.74572])\n",
    "\n",
    "# Read in the new observations\n",
    "input_file = \"ex3data.csv\"\n",
    "X = pd.read_csv(input_file)\n",
    "\n",
    "# Add a 1, for intercept weight purposes\n",
    "X[\"Int\"] = 1\n",
    "X = X[[\"Int\"] + X.columns[:-1].tolist()]\n",
    "X"
   ]
  },
  {
   "cell_type": "markdown",
   "metadata": {},
   "source": [
    "Logistic regression handles continues features just fine. \n",
    "\n",
    "To deal with the categorical (probably ordinal) variable Economic (which captures the socioeconomic band to which the customer belongs), we're apparently going to use indicators for levels 'b' and 'c', where zeros for both indicates the customer is at level 'a'. Thankfully, this is easy to do in pandas:"
   ]
  },
  {
   "cell_type": "code",
   "execution_count": 7,
   "metadata": {
    "collapsed": false
   },
   "outputs": [],
   "source": [
    "X = pd.get_dummies(X, drop_first=True)"
   ]
  },
  {
   "cell_type": "code",
   "execution_count": 8,
   "metadata": {
    "collapsed": true
   },
   "outputs": [],
   "source": [
    "# Reorder the columns, so that they line up with the order of the weights\n",
    "# Also note that in the weights provided, ShopVal precedes ShopFreq, but in the data, ShopFreq comes first. Flip em'\n",
    "X = X[X.columns[:2].tolist() + X.columns[-2:].tolist() + X.columns[range(3,1,-1)].tolist()]"
   ]
  },
  {
   "cell_type": "markdown",
   "metadata": {},
   "source": [
    "Finally, we're ready to apply the logistic regression model to our data..."
   ]
  },
  {
   "cell_type": "code",
   "execution_count": 11,
   "metadata": {
    "collapsed": false
   },
   "outputs": [
    {
     "data": {
      "text/plain": [
       "array([ 0.24645465,  0.34519446,  0.59540115,  0.6292153 ,  0.72802866])"
      ]
     },
     "execution_count": 11,
     "metadata": {},
     "output_type": "execute_result"
    }
   ],
   "source": [
    "from scipy.special import expit as logistic\n",
    "logistic(np.dot(X, weights))"
   ]
  },
  {
   "cell_type": "markdown",
   "metadata": {},
   "source": [
    "The actual predictions made by this model will depend on where we draw the line between \"don't give a free gift\" and \"give a free gift,\" but if the line is at 0.5, then the last thee customers in our dataset will receive the gift and the first two won't."
   ]
  }
 ],
 "metadata": {
  "kernelspec": {
   "display_name": "Python 3",
   "language": "python",
   "name": "python3"
  },
  "language_info": {
   "codemirror_mode": {
    "name": "ipython",
    "version": 3
   },
   "file_extension": ".py",
   "mimetype": "text/x-python",
   "name": "python",
   "nbconvert_exporter": "python",
   "pygments_lexer": "ipython3",
   "version": "3.6.0"
  }
 },
 "nbformat": 4,
 "nbformat_minor": 0
}
