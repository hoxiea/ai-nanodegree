{
 "cells": [
  {
   "cell_type": "markdown",
   "metadata": {},
   "source": [
    "# Project 2: Supervised Learning\n",
    "### Building a Student Intervention System"
   ]
  },
  {
   "cell_type": "markdown",
   "metadata": {},
   "source": [
    "## 1. Classification vs Regression\n",
    "\n",
    "Your goal is to identify students who might need early intervention - which type of supervised machine learning problem is this, classification or regression? Why?"
   ]
  },
  {
   "cell_type": "markdown",
   "metadata": {},
   "source": [
    "## 2. Exploring the Data\n",
    "\n",
    "Let's go ahead and read in the student dataset first.\n",
    "\n",
    "_To execute a code cell, click inside it and press **Shift+Enter**._"
   ]
  },
  {
   "cell_type": "code",
   "execution_count": 51,
   "metadata": {
    "collapsed": false
   },
   "outputs": [],
   "source": [
    "# Import libraries\n",
    "import numpy as np\n",
    "import pandas as pd"
   ]
  },
  {
   "cell_type": "code",
   "execution_count": 52,
   "metadata": {
    "collapsed": false
   },
   "outputs": [
    {
     "name": "stdout",
     "output_type": "stream",
     "text": [
      "Student data read successfully!\n"
     ]
    }
   ],
   "source": [
    "# Read student data\n",
    "student_data = pd.read_csv(\"student-data.csv\")\n",
    "print \"Student data read successfully!\"\n",
    "# Note: The last column 'passed' is the target/label, all other are feature columns"
   ]
  },
  {
   "cell_type": "markdown",
   "metadata": {},
   "source": [
    "Now, can you find out the following facts about the dataset?\n",
    "- Total number of students\n",
    "- Number of students who passed\n",
    "- Number of students who failed\n",
    "- Graduation rate of the class (%)\n",
    "- Number of features\n",
    "\n",
    "_Use the code block below to compute these values. Instructions/steps are marked using **TODO**s._"
   ]
  },
  {
   "cell_type": "code",
   "execution_count": 53,
   "metadata": {
    "collapsed": false
   },
   "outputs": [
    {
     "name": "stdout",
     "output_type": "stream",
     "text": [
      "Total number of students: 395\n",
      "Number of students who passed: 265\n",
      "Number of students who failed: 130\n",
      "Number of features: 30\n",
      "Graduation rate of the class: 67.09%\n"
     ]
    }
   ],
   "source": [
    "n_students = student_data.shape[0]\n",
    "n_features = student_data.shape[1] - 1\n",
    "n_passed = sum(student_data['passed'] == 'yes')\n",
    "n_failed = sum(student_data['passed'] == 'no')\n",
    "grad_rate = (100.0 * n_passed) / n_students\n",
    "print \"Total number of students: {}\".format(n_students)\n",
    "print \"Number of students who passed: {}\".format(n_passed)\n",
    "print \"Number of students who failed: {}\".format(n_failed)\n",
    "print \"Number of features: {}\".format(n_features)\n",
    "print \"Graduation rate of the class: {:.2f}%\".format(grad_rate)"
   ]
  },
  {
   "cell_type": "markdown",
   "metadata": {},
   "source": [
    "## 3. Preparing the Data\n",
    "In this section, we will prepare the data for modeling, training and testing.\n",
    "\n",
    "### Identify feature and target columns\n",
    "It is often the case that the data you obtain contains non-numeric features. This can be a problem, as most machine learning algorithms expect numeric data to perform computations with.\n",
    "\n",
    "Let's first separate our data into feature and target columns, and see if any features are non-numeric.<br/>\n",
    "**Note**: For this dataset, the last column (`'passed'`) is the target or label we are trying to predict."
   ]
  },
  {
   "cell_type": "code",
   "execution_count": 54,
   "metadata": {
    "collapsed": false
   },
   "outputs": [
    {
     "name": "stdout",
     "output_type": "stream",
     "text": [
      "Feature column(s):-\n",
      "['school', 'sex', 'age', 'address', 'famsize', 'Pstatus', 'Medu', 'Fedu', 'Mjob', 'Fjob', 'reason', 'guardian', 'traveltime', 'studytime', 'failures', 'schoolsup', 'famsup', 'paid', 'activities', 'nursery', 'higher', 'internet', 'romantic', 'famrel', 'freetime', 'goout', 'Dalc', 'Walc', 'health', 'absences']\n",
      "Target column: passed\n",
      "\n",
      "Feature values:-\n",
      "  school sex  age address famsize Pstatus  Medu  Fedu     Mjob      Fjob  \\\n",
      "0     GP   F   18       U     GT3       A     4     4  at_home   teacher   \n",
      "1     GP   F   17       U     GT3       T     1     1  at_home     other   \n",
      "2     GP   F   15       U     LE3       T     1     1  at_home     other   \n",
      "3     GP   F   15       U     GT3       T     4     2   health  services   \n",
      "4     GP   F   16       U     GT3       T     3     3    other     other   \n",
      "\n",
      "    ...    higher internet  romantic  famrel  freetime goout Dalc Walc health  \\\n",
      "0   ...       yes       no        no       4         3     4    1    1      3   \n",
      "1   ...       yes      yes        no       5         3     3    1    1      3   \n",
      "2   ...       yes      yes        no       4         3     2    2    3      3   \n",
      "3   ...       yes      yes       yes       3         2     2    1    1      5   \n",
      "4   ...       yes       no        no       4         3     2    1    2      5   \n",
      "\n",
      "  absences  \n",
      "0        6  \n",
      "1        4  \n",
      "2       10  \n",
      "3        2  \n",
      "4        4  \n",
      "\n",
      "[5 rows x 30 columns]\n"
     ]
    }
   ],
   "source": [
    "# Extract feature (X) and target (y) columns\n",
    "feature_cols = list(student_data.columns[:-1])  # all columns but last are features\n",
    "target_col = student_data.columns[-1]  # last column is the target/label\n",
    "print \"Feature column(s):-\\n{}\".format(feature_cols)\n",
    "print \"Target column: {}\".format(target_col)\n",
    "\n",
    "X_all = student_data[feature_cols]  # feature values for all students\n",
    "y_all = student_data[target_col]  # corresponding targets/labels\n",
    "print \"\\nFeature values:-\"\n",
    "print X_all.head()  # print the first 5 rows"
   ]
  },
  {
   "cell_type": "markdown",
   "metadata": {},
   "source": [
    "### Preprocess feature columns\n",
    "\n",
    "As you can see, there are several non-numeric columns that need to be converted! Many of them are simply `yes`/`no`, e.g. `internet`. These can be reasonably converted into `1`/`0` (binary) values.\n",
    "\n",
    "Other columns, like `Mjob` and `Fjob`, have more than two values, and are known as _categorical variables_. The recommended way to handle such a column is to create as many columns as possible values (e.g. `Fjob_teacher`, `Fjob_other`, `Fjob_services`, etc.), and assign a `1` to one of them and `0` to all others.\n",
    "\n",
    "These generated columns are sometimes called _dummy variables_, and we will use the [`pandas.get_dummies()`](http://pandas.pydata.org/pandas-docs/stable/generated/pandas.get_dummies.html?highlight=get_dummies#pandas.get_dummies) function to perform this transformation."
   ]
  },
  {
   "cell_type": "code",
   "execution_count": 55,
   "metadata": {
    "collapsed": false
   },
   "outputs": [
    {
     "name": "stdout",
     "output_type": "stream",
     "text": [
      "Processed feature columns (48):-\n",
      "['school_GP', 'school_MS', 'sex_F', 'sex_M', 'age', 'address_R', 'address_U', 'famsize_GT3', 'famsize_LE3', 'Pstatus_A', 'Pstatus_T', 'Medu', 'Fedu', 'Mjob_at_home', 'Mjob_health', 'Mjob_other', 'Mjob_services', 'Mjob_teacher', 'Fjob_at_home', 'Fjob_health', 'Fjob_other', 'Fjob_services', 'Fjob_teacher', 'reason_course', 'reason_home', 'reason_other', 'reason_reputation', 'guardian_father', 'guardian_mother', 'guardian_other', 'traveltime', 'studytime', 'failures', 'schoolsup', 'famsup', 'paid', 'activities', 'nursery', 'higher', 'internet', 'romantic', 'famrel', 'freetime', 'goout', 'Dalc', 'Walc', 'health', 'absences']\n"
     ]
    }
   ],
   "source": [
    "# Preprocess feature columns\n",
    "def preprocess_features(X):\n",
    "    outX = pd.DataFrame(index=X.index)  # output dataframe, initially empty\n",
    "\n",
    "    # Check each column\n",
    "    for col, col_data in X.iteritems():\n",
    "        # If data type is non-numeric, try to replace all yes/no values with 1/0\n",
    "        if col_data.dtype == object:\n",
    "            col_data = col_data.replace(['yes', 'no'], [1, 0])\n",
    "        # Note: This should change the data type for yes/no columns to int\n",
    "\n",
    "        # If still non-numeric, convert to one or more dummy variables\n",
    "        if col_data.dtype == object:\n",
    "            col_data = pd.get_dummies(col_data, prefix=col)  # e.g. 'school' => 'school_GP', 'school_MS'\n",
    "\n",
    "        outX = outX.join(col_data)  # collect column(s) in output dataframe\n",
    "\n",
    "    return outX\n",
    "\n",
    "X_all = preprocess_features(X_all)\n",
    "print \"Processed feature columns ({}):-\\n{}\".format(len(X_all.columns), list(X_all.columns))"
   ]
  },
  {
   "cell_type": "markdown",
   "metadata": {},
   "source": [
    "### Split data into training and test sets\n",
    "\n",
    "So far, we have converted all _categorical_ features into numeric values. In this next step, we split the data (both features and corresponding labels) into training and test sets."
   ]
  },
  {
   "cell_type": "code",
   "execution_count": 56,
   "metadata": {
    "collapsed": false
   },
   "outputs": [
    {
     "name": "stdout",
     "output_type": "stream",
     "text": [
      "Training set: 300 samples\n",
      "Test set: 95 samples\n"
     ]
    }
   ],
   "source": [
    "# First, decide how many training vs test samples you want\n",
    "num_all = student_data.shape[0]  # same as len(student_data)\n",
    "num_train = 300  # about 75% of the data\n",
    "num_test = num_all - num_train\n",
    "\n",
    "training_indices = np.random.choice(student_data.index.values, num_train, replace=False)\n",
    "\n",
    "X_train = X_all.ix[training_indices]\n",
    "y_train = y_all.ix[training_indices]\n",
    "X_test = X_all.drop(training_indices)\n",
    "y_test = y_all.drop(training_indices)\n",
    "print \"Training set: {} samples\".format(X_train.shape[0])\n",
    "print \"Test set: {} samples\".format(X_test.shape[0])\n",
    "assert len(student_data) == len(X_train) + len(X_test) == len(y_train) + len(y_test)"
   ]
  },
  {
   "cell_type": "markdown",
   "metadata": {},
   "source": [
    "## 4. Training and Evaluating Models\n",
    "Choose 3 supervised learning models that are available in scikit-learn, and appropriate for this problem. For each model:\n",
    "\n",
    "- What is the theoretical O(n) time & space complexity in terms of input size?\n",
    "- What are the general applications of this model? What are its strengths and weaknesses?\n",
    "- Given what you know about the data so far, why did you choose this model to apply?\n",
    "- Fit this model to the training data, try to predict labels (for both training and test sets), and measure the F<sub>1</sub> score. Repeat this process with different training set sizes (100, 200, 300), keeping test set constant.\n",
    "\n",
    "Produce a table showing training time, prediction time, F<sub>1</sub> score on training set and F<sub>1</sub> score on test set, for each training set size.\n",
    "\n",
    "Note: You need to produce 3 such tables - one for each model."
   ]
  },
  {
   "cell_type": "code",
   "execution_count": 57,
   "metadata": {
    "collapsed": false
   },
   "outputs": [],
   "source": [
    "# HELPER FUNCTIONS: TRAINING, TESTING (F1), LEARNING CURVE\n",
    "import time\n",
    "from sklearn.metrics import f1_score, make_scorer\n",
    "from functools import partial\n",
    "\n",
    "def train_classifier(clf, X_train, y_train, verbose=False):\n",
    "    \"\"\"\n",
    "    Train a generic sklearn classifier $clf using $X_train and $y_train.\n",
    "    Mutates clf. Returns the amount of time spent training.\n",
    "    \"\"\"\n",
    "    if verbose:\n",
    "        print \"Training {}...\".format(clf.__class__.__name__)\n",
    "    start = time.time()\n",
    "    clf.fit(X_train, y_train)\n",
    "    end = time.time()\n",
    "    training_time = end - start\n",
    "    if verbose:\n",
    "        print \"Done!\\nTraining time (secs): {:.3f}\".format(training_time)\n",
    "    return training_time\n",
    "\n",
    "def predict_labels(clf, features, target, verbose=False):\n",
    "    \"\"\"\n",
    "    Use classifier $clf to predict target labels using $features, and compute the F1 score wrt $target.\n",
    "    Return the F1 score and the time spent predicting labels.\n",
    "    \"\"\"\n",
    "    if verbose:\n",
    "        print \"Predicting labels using {}...\".format(clf.__class__.__name__)\n",
    "    start = time.time()\n",
    "    y_pred = clf.predict(features)\n",
    "    end = time.time()\n",
    "    predicting_time = end - start\n",
    "    if verbose:\n",
    "        print \"Done!\\nPrediction time (secs): {:.3f}\".format(predicting_time)\n",
    "    return f1_score(target.values, y_pred, pos_label='yes'), predicting_time\n",
    "\n",
    "# Train and predict using different training set sizes\n",
    "def train_predict(clf, X_train, y_train, X_test, y_test, verbose=False):\n",
    "    if verbose:\n",
    "        print \"------------------------------------------\"\n",
    "        print \"Training set size: {}\".format(len(X_train))\n",
    "    training_time = train_classifier(clf, X_train, y_train, verbose)\n",
    "    training_f1, _ = predict_labels(clf, X_train, y_train, verbose)\n",
    "    testing_f1, predicting_time = predict_labels(clf, X_test, y_test, verbose)\n",
    "    if verbose:\n",
    "        print \"F1 score for training set: {}\".format(training_f1)\n",
    "        print \"F1 score for test set: {}\".format(testing_f1)\n",
    "    return (training_f1, training_time, testing_f1, predicting_time)\n",
    "\n",
    "f1_score_yes = partial(f1_score, pos_label='yes')\n",
    "f1_score_yes.__name__ = \"f1 score (pos_label='yes')\""
   ]
  },
  {
   "cell_type": "markdown",
   "metadata": {},
   "source": [
    "### Model Exploration"
   ]
  },
  {
   "cell_type": "code",
   "execution_count": 58,
   "metadata": {
    "collapsed": false
   },
   "outputs": [
    {
     "name": "stdout",
     "output_type": "stream",
     "text": [
      "-------------------\n",
      "Training Size = 100\n",
      "Average Training Time for kNN: 5.019e-04\n",
      "Average Training F1 for kNN: 0.8351\n",
      "Average Testing (Prediction) Time for kNN: 1.470e-03\n",
      "Average Testing F1 for kNN: 0.7798\n",
      "\n",
      "-------------------\n",
      "Training Size = 200\n",
      "Average Training Time for kNN: 5.607e-04\n",
      "Average Training F1 for kNN: 0.8503\n",
      "Average Testing (Prediction) Time for kNN: 1.916e-03\n",
      "Average Testing F1 for kNN: 0.7552\n",
      "\n",
      "-------------------\n",
      "Training Size = 300\n",
      "Average Training Time for kNN: 6.866e-04\n",
      "Average Training F1 for kNN: 0.8557\n",
      "Average Testing (Prediction) Time for kNN: 2.541e-03\n",
      "Average Testing F1 for kNN: 0.7844\n",
      "\n",
      "-------------------\n",
      "Training Size = 100\n",
      "Average Training Time for DT: 6.451e-04\n",
      "Average Training F1 for DT: 1.0\n",
      "Average Testing (Prediction) Time for DT: 1.502e-04\n",
      "Average Testing F1 for DT: 0.7394\n",
      "\n",
      "-------------------\n",
      "Training Size = 200\n",
      "Average Training Time for DT: 1.092e-03\n",
      "Average Training F1 for DT: 1.0\n",
      "Average Testing (Prediction) Time for DT: 1.525e-04\n",
      "Average Testing F1 for DT: 0.7265\n",
      "\n",
      "-------------------\n",
      "Training Size = 300\n",
      "Average Training Time for DT: 1.571e-03\n",
      "Average Training F1 for DT: 1.0\n",
      "Average Testing (Prediction) Time for DT: 1.513e-04\n",
      "Average Testing F1 for DT: 0.702\n",
      "\n",
      "-------------------\n",
      "Training Size = 100\n",
      "Average Training Time for RF: 2.075e-02\n",
      "Average Training F1 for RF: 0.9909\n",
      "Average Testing (Prediction) Time for RF: 9.656e-04\n",
      "Average Testing F1 for RF: 0.7577\n",
      "\n",
      "-------------------\n",
      "Training Size = 200\n",
      "Average Training Time for RF: 2.097e-02\n",
      "Average Training F1 for RF: 0.9905\n",
      "Average Testing (Prediction) Time for RF: 9.827e-04\n",
      "Average Testing F1 for RF: 0.7532\n",
      "\n",
      "-------------------\n",
      "Training Size = 300\n",
      "Average Training Time for RF: 2.167e-02\n",
      "Average Training F1 for RF: 0.9906\n",
      "Average Testing (Prediction) Time for RF: 1.005e-03\n",
      "Average Testing F1 for RF: 0.7378\n",
      "\n",
      "-------------------\n",
      "Training Size = 100\n",
      "Average Training Time for LDA: 1.561e-03\n",
      "Average Training F1 for LDA: 0.9147\n",
      "Average Testing (Prediction) Time for LDA: 1.449e-04\n",
      "Average Testing F1 for LDA: 0.7306\n",
      "\n",
      "-------------------\n",
      "Training Size = 200\n",
      "Average Training Time for LDA: 1.924e-03\n",
      "Average Training F1 for LDA: 0.854\n",
      "Average Testing (Prediction) Time for LDA: 1.425e-04\n",
      "Average Testing F1 for LDA: 0.7667\n",
      "\n",
      "-------------------\n",
      "Training Size = 300\n",
      "Average Training Time for LDA: 2.232e-03\n",
      "Average Training F1 for LDA: 0.8398\n",
      "Average Testing (Prediction) Time for LDA: 1.441e-04\n",
      "Average Testing F1 for LDA: 0.7857\n",
      "\n"
     ]
    }
   ],
   "source": [
    "from sklearn.tree import DecisionTreeClassifier\n",
    "from sklearn.ensemble import RandomForestClassifier\n",
    "from sklearn.discriminant_analysis import LinearDiscriminantAnalysis\n",
    "from sklearn.neighbors import KNeighborsClassifier\n",
    "from collections import defaultdict\n",
    "\n",
    "num_repititions = 10\n",
    "training_sizes = (100, 200, 300)\n",
    "classifiers = {\n",
    "    \"DT\": DecisionTreeClassifier(),\n",
    "    \"RF\": RandomForestClassifier(),\n",
    "    \"kNN\": KNeighborsClassifier(),\n",
    "    \"LDA\": LinearDiscriminantAnalysis(),\n",
    "\n",
    "}\n",
    "performances = {c: {ts: defaultdict(list) for ts in training_sizes} for c in classifiers.keys()}\n",
    "np.random.seed(123456)\n",
    "\n",
    "for name, clf in classifiers.items():\n",
    "    results = performances[name]\n",
    "    for _ in xrange(num_repititions):\n",
    "        for training_size in training_sizes:\n",
    "            # Grab training_size samples from the training data\n",
    "            training_indices = np.random.choice(X_train.index.values, training_size, replace=False)\n",
    "            X_train_subset = X_train.ix[training_indices]\n",
    "            y_train_subset = y_train.ix[training_indices]\n",
    "            assert np.array_equal(X_train_subset.index, y_train_subset.index)\n",
    "            training_f1, training_time, testing_f1, testing_time = train_predict(clf, X_train_subset, y_train_subset, X_test, y_test)\n",
    "            results[training_size]['training_f1'].append(training_f1)\n",
    "            results[training_size]['training_time'].append(training_time)\n",
    "            results[training_size]['testing_f1'].append(testing_f1)\n",
    "            results[training_size]['testing_time'].append(testing_time)\n",
    "\n",
    "def print_performance_dict(p):\n",
    "    for method, results in p.items():\n",
    "        for training_size in sorted(results.keys()):\n",
    "            print \"-------------------\"\n",
    "            print \"Training Size = {}\".format(training_size)\n",
    "            print \"Average Training Time for {}: {:.3e}\".format(method, np.mean(results[training_size]['training_time']))\n",
    "            print \"Average Training F1 for {}: {:.4}\".format(method, np.mean(results[training_size]['training_f1']))\n",
    "            print \"Average Testing (Prediction) Time for {}: {:.3e}\".format(method, np.mean(results[training_size]['testing_time']))\n",
    "            print \"Average Testing F1 for {}: {:.4}\".format(method, np.mean(results[training_size]['testing_f1']))\n",
    "            print\n",
    "\n",
    "print_performance_dict(performances)"
   ]
  },
  {
   "cell_type": "markdown",
   "metadata": {},
   "source": [
    "## 5. Choosing the Best Model\n",
    "\n",
    "- Based on the experiments you performed earlier, in 1-2 paragraphs explain to the board of supervisors what single model you chose as the best model. Which model is generally the most appropriate based on the available data, limited resources, cost, and performance?\n",
    "- In 1-2 paragraphs explain to the board of supervisors in layman's terms how the final model chosen is supposed to work (for example if you chose a Decision Tree or Support Vector Machine, how does it make a prediction).\n",
    "- Fine-tune the model. Use Gridsearch with at least one important parameter tuned and with at least 3 settings. Use the entire training set for this.\n",
    "- What is the model's final F<sub>1</sub> score?"
   ]
  },
  {
   "cell_type": "code",
   "execution_count": 61,
   "metadata": {
    "collapsed": false
   },
   "outputs": [
    {
     "name": "stdout",
     "output_type": "stream",
     "text": [
      "------------------------------------------\n",
      "Training set size: 300\n",
      "Training GridSearchCV...\n",
      "Done!\n",
      "Training time (secs): 69.853\n",
      "Predicting labels using GridSearchCV...\n",
      "Done!\n",
      "Prediction time (secs): 0.000\n",
      "Predicting labels using GridSearchCV...\n",
      "Done!\n",
      "Prediction time (secs): 0.000\n",
      "F1 score for training set: 0.806451612903\n",
      "F1 score for test set: 0.825174825175\n",
      "Training GridSearchCV...\n",
      "Done!\n",
      "Training time (secs): 75.598\n"
     ]
    }
   ],
   "source": [
    "from sklearn.grid_search import GridSearchCV\n",
    "from sklearn.externals.six import StringIO\n",
    "from sklearn import tree\n",
    "import os\n",
    "\n",
    "dt_params = [\n",
    "    {\n",
    "        'criterion': ['gini', 'entropy'],\n",
    "        'max_depth': range(1, 21),\n",
    "        'min_samples_split': range(1, 10),\n",
    "        'min_samples_leaf': range(1, 10)\n",
    "    }\n",
    "]\n",
    "\n",
    "make_plots = False\n",
    "\n",
    "# Use n=300 observations used by previous models\n",
    "dt_clf = GridSearchCV(DecisionTreeClassifier(), dt_params, cv=5, scoring=make_scorer(f1_score_yes))\n",
    "train_predict(dt_clf, X_train, y_train, X_test, y_test, True)\n",
    "dt_final = dt_clf.best_estimator_\n",
    "\n",
    "if make_plots:\n",
    "    with open(\"dt1.dot\", 'w') as f:\n",
    "        f = tree.export_graphviz(dt_final, out_file=f)\n",
    "    !dot -Tpdf dt1.dot -o dt1.pdf\n",
    "    os.unlink('dt1.dot')\n",
    "\n",
    "\n",
    "# Use all available data (n=395)\n",
    "dt_clf2 = GridSearchCV(DecisionTreeClassifier(), dt_params, cv=5, scoring=make_scorer(f1_score_yes))\n",
    "train_classifier(dt_clf2, X_all, y_all, True)\n",
    "dt_final2 = dt_clf2.best_estimator_\n",
    "\n",
    "if make_plots:\n",
    "    with open(\"dt2.dot\", 'w') as f:\n",
    "        f = tree.export_graphviz(dt_final2, out_file=f)\n",
    "    !dot -Tpdf dt2.dot -o dt2.pdf\n",
    "    os.unlink('dt2.dot')"
   ]
  },
  {
   "cell_type": "code",
   "execution_count": 64,
   "metadata": {
    "collapsed": false
   },
   "outputs": [
    {
     "name": "stdout",
     "output_type": "stream",
     "text": [
      "n=300 best params:\n",
      "{'min_samples_split': 1, 'criterion': 'gini', 'max_depth': 1, 'min_samples_leaf': 1}\n",
      "n=300 best CV score:\n",
      "0.806536056376\n",
      "\n",
      "n=395 best params:\n",
      "{'min_samples_split': 1, 'criterion': 'gini', 'max_depth': 1, 'min_samples_leaf': 1}\n",
      "n=395 best CV score:\n",
      "0.810955914371\n",
      "\n",
      "Variables used for splits:\n",
      "Index([u'failures'], dtype='object')\n"
     ]
    }
   ],
   "source": [
    "# See the results\n",
    "print \"n=300 best params:\"\n",
    "print dt_clf.best_params_\n",
    "print \"n=300 best CV score:\"\n",
    "print dt_clf.best_score_\n",
    "print\n",
    "\n",
    "print \"n=395 best params:\"\n",
    "print dt_clf2.best_params_\n",
    "print \"n=395 best CV score:\" \n",
    "print dt_clf2.best_score_\n",
    "print\n",
    "\n",
    "# Which were the important variables?\n",
    "nonzero_indices = [i for i, score in enumerate(dt_final2.feature_importances_) if score > 0]\n",
    "print \"Variables used for splits:\" \n",
    "print X_all.columns[nonzero_indices]\n"
   ]
  }
 ],
 "metadata": {
  "kernelspec": {
   "display_name": "Python 2",
   "language": "python",
   "name": "python2"
  },
  "language_info": {
   "codemirror_mode": {
    "name": "ipython",
    "version": 2
   },
   "file_extension": ".py",
   "mimetype": "text/x-python",
   "name": "python",
   "nbconvert_exporter": "python",
   "pygments_lexer": "ipython2",
   "version": "2.7.11"
  }
 },
 "nbformat": 4,
 "nbformat_minor": 0
}
